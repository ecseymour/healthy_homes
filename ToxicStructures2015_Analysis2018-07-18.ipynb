{
 "cells": [
  {
   "cell_type": "markdown",
   "metadata": {},
   "source": [
    "# Toxic Structures 2015\n",
    "\n",
    "Preliminary analysis of parcel-level blood test data. Quick and dirty analysis joining test data to 2014 ownership data."
   ]
  },
  {
   "cell_type": "code",
   "execution_count": 1,
   "metadata": {
    "collapsed": true
   },
   "outputs": [],
   "source": [
    "# import libraries\n",
    "from pysqlite2 import dbapi2 as sql\n",
    "import pandas as pd\n",
    "import geopandas as gpd\n",
    "import numpy as np\n",
    "import seaborn as sns\n",
    "import statsmodels.formula.api as smf\n",
    "from matplotlib import pyplot as plt\n",
    "from scipy.stats import chi2_contingency\n",
    "%matplotlib inline"
   ]
  },
  {
   "cell_type": "code",
   "execution_count": 2,
   "metadata": {
    "collapsed": true
   },
   "outputs": [],
   "source": [
    "db = \"/home/eric/detroit_research_projects/data/HealthyHomes/HealthyHomes.sqlite\"\n",
    "con = sql.connect(db)\n",
    "cur = con.cursor()"
   ]
  },
  {
   "cell_type": "code",
   "execution_count": 3,
   "metadata": {},
   "outputs": [
    {
     "name": "stdout",
     "output_type": "stream",
     "text": [
      "[(3388,)]\n"
     ]
    }
   ],
   "source": [
    "# how many blood test records\n",
    "cur.execute(\"SELECT COUNT(*) FROM test_data_2015;\")\n",
    "results = cur.fetchall()\n",
    "print results"
   ]
  },
  {
   "cell_type": "code",
   "execution_count": 4,
   "metadata": {},
   "outputs": [
    {
     "name": "stdout",
     "output_type": "stream",
     "text": [
      "[(3380,)]\n"
     ]
    }
   ],
   "source": [
    "# how many parcels match 2014 assessor file?\n",
    "cur.execute('''\n",
    "    SELECT COUNT(*) \n",
    "    FROM test_data_2015 AS A JOIN detroitparcels2014 AS B\n",
    "    ON A.parcel = B.parcelnumber\n",
    "    ;\n",
    "    ''')\n",
    "results = cur.fetchall()\n",
    "print results"
   ]
  },
  {
   "cell_type": "code",
   "execution_count": 5,
   "metadata": {},
   "outputs": [
    {
     "name": "stdout",
     "output_type": "stream",
     "text": [
      "(None, 2873)\n",
      "(1, 507)\n"
     ]
    }
   ],
   "source": [
    "# how many of these parcels are investor owned?\n",
    "# 1 = investor owned\n",
    "cur.execute('''\n",
    "    SELECT B.investor_flag, COUNT(*) \n",
    "    FROM test_data_2015 AS A JOIN detroitparcels2014 AS B\n",
    "    ON A.parcel = B.parcelnumber\n",
    "    GROUP BY B.investor_flag\n",
    "    ;\n",
    "    ''')\n",
    "results = cur.fetchall()\n",
    "for row in results:\n",
    "    print row"
   ]
  },
  {
   "cell_type": "code",
   "execution_count": 6,
   "metadata": {},
   "outputs": [
    {
     "data": {
      "text/html": [
       "<div>\n",
       "<style>\n",
       "    .dataframe thead tr:only-child th {\n",
       "        text-align: right;\n",
       "    }\n",
       "\n",
       "    .dataframe thead th {\n",
       "        text-align: left;\n",
       "    }\n",
       "\n",
       "    .dataframe tbody tr th {\n",
       "        vertical-align: top;\n",
       "    }\n",
       "</style>\n",
       "<table border=\"1\" class=\"dataframe\">\n",
       "  <thead>\n",
       "    <tr style=\"text-align: right;\">\n",
       "      <th></th>\n",
       "      <th>investor_flag</th>\n",
       "      <th>bll</th>\n",
       "      <th>resyearbuilt</th>\n",
       "      <th>currentsev</th>\n",
       "      <th>ebll_flag</th>\n",
       "    </tr>\n",
       "    <tr>\n",
       "      <th>rowid</th>\n",
       "      <th></th>\n",
       "      <th></th>\n",
       "      <th></th>\n",
       "      <th></th>\n",
       "      <th></th>\n",
       "    </tr>\n",
       "  </thead>\n",
       "  <tbody>\n",
       "    <tr>\n",
       "      <th>100</th>\n",
       "      <td>0.0</td>\n",
       "      <td>2</td>\n",
       "      <td>1912</td>\n",
       "      <td>15232</td>\n",
       "      <td>0</td>\n",
       "    </tr>\n",
       "    <tr>\n",
       "      <th>882</th>\n",
       "      <td>0.0</td>\n",
       "      <td>3</td>\n",
       "      <td>1898</td>\n",
       "      <td>7499</td>\n",
       "      <td>0</td>\n",
       "    </tr>\n",
       "    <tr>\n",
       "      <th>897</th>\n",
       "      <td>0.0</td>\n",
       "      <td>2</td>\n",
       "      <td>1900</td>\n",
       "      <td>10524</td>\n",
       "      <td>0</td>\n",
       "    </tr>\n",
       "    <tr>\n",
       "      <th>900</th>\n",
       "      <td>0.0</td>\n",
       "      <td>3</td>\n",
       "      <td>1891</td>\n",
       "      <td>12862</td>\n",
       "      <td>0</td>\n",
       "    </tr>\n",
       "    <tr>\n",
       "      <th>883</th>\n",
       "      <td>1.0</td>\n",
       "      <td>1</td>\n",
       "      <td>1900</td>\n",
       "      <td>9475</td>\n",
       "      <td>0</td>\n",
       "    </tr>\n",
       "  </tbody>\n",
       "</table>\n",
       "</div>"
      ],
      "text/plain": [
       "       investor_flag  bll  resyearbuilt  currentsev  ebll_flag\n",
       "rowid                                                         \n",
       "100              0.0    2          1912       15232          0\n",
       "882              0.0    3          1898        7499          0\n",
       "897              0.0    2          1900       10524          0\n",
       "900              0.0    3          1891       12862          0\n",
       "883              1.0    1          1900        9475          0"
      ]
     },
     "execution_count": 6,
     "metadata": {},
     "output_type": "execute_result"
    }
   ],
   "source": [
    "# what is the correspondance btw investor-ownership and elevated blood levels?\n",
    "# Is 5 micrograms per deciliter the threshold of concern?\n",
    "qry = '''\n",
    "SELECT A.ROWID, B.investor_flag, A.bll, B.resyearbuilt, B.currentsev\n",
    "FROM test_data_2015 AS A JOIN detroitparcels2014 AS B\n",
    "ON A.parcel = B.parcelnumber;\n",
    "'''\n",
    "df = pd.read_sql(qry, con, index_col='rowid')\n",
    "df.fillna(0, inplace=True)\n",
    "df['ebll_flag'] = 0\n",
    "df.loc[df['bll'] >= 5, 'ebll_flag'] = 1\n",
    "df.head()"
   ]
  },
  {
   "cell_type": "code",
   "execution_count": 7,
   "metadata": {},
   "outputs": [
    {
     "data": {
      "text/html": [
       "<div>\n",
       "<style>\n",
       "    .dataframe thead tr:only-child th {\n",
       "        text-align: right;\n",
       "    }\n",
       "\n",
       "    .dataframe thead th {\n",
       "        text-align: left;\n",
       "    }\n",
       "\n",
       "    .dataframe tbody tr th {\n",
       "        vertical-align: top;\n",
       "    }\n",
       "</style>\n",
       "<table border=\"1\" class=\"dataframe\">\n",
       "  <thead>\n",
       "    <tr style=\"text-align: right;\">\n",
       "      <th></th>\n",
       "      <th>investor_flag</th>\n",
       "      <th>bll</th>\n",
       "      <th>resyearbuilt</th>\n",
       "      <th>currentsev</th>\n",
       "      <th>ebll_flag</th>\n",
       "    </tr>\n",
       "  </thead>\n",
       "  <tbody>\n",
       "    <tr>\n",
       "      <th>count</th>\n",
       "      <td>3380.000000</td>\n",
       "      <td>3380.000000</td>\n",
       "      <td>3380.000000</td>\n",
       "      <td>3.380000e+03</td>\n",
       "      <td>3380.000000</td>\n",
       "    </tr>\n",
       "    <tr>\n",
       "      <th>mean</th>\n",
       "      <td>0.150000</td>\n",
       "      <td>1.837870</td>\n",
       "      <td>1749.049112</td>\n",
       "      <td>2.542542e+04</td>\n",
       "      <td>0.043787</td>\n",
       "    </tr>\n",
       "    <tr>\n",
       "      <th>std</th>\n",
       "      <td>0.357124</td>\n",
       "      <td>1.785903</td>\n",
       "      <td>567.848097</td>\n",
       "      <td>1.807060e+05</td>\n",
       "      <td>0.204651</td>\n",
       "    </tr>\n",
       "    <tr>\n",
       "      <th>min</th>\n",
       "      <td>0.000000</td>\n",
       "      <td>1.000000</td>\n",
       "      <td>0.000000</td>\n",
       "      <td>0.000000e+00</td>\n",
       "      <td>0.000000</td>\n",
       "    </tr>\n",
       "    <tr>\n",
       "      <th>25%</th>\n",
       "      <td>0.000000</td>\n",
       "      <td>1.000000</td>\n",
       "      <td>1918.000000</td>\n",
       "      <td>7.951250e+03</td>\n",
       "      <td>0.000000</td>\n",
       "    </tr>\n",
       "    <tr>\n",
       "      <th>50%</th>\n",
       "      <td>0.000000</td>\n",
       "      <td>1.000000</td>\n",
       "      <td>1928.000000</td>\n",
       "      <td>1.285200e+04</td>\n",
       "      <td>0.000000</td>\n",
       "    </tr>\n",
       "    <tr>\n",
       "      <th>75%</th>\n",
       "      <td>0.000000</td>\n",
       "      <td>2.000000</td>\n",
       "      <td>1946.000000</td>\n",
       "      <td>1.807650e+04</td>\n",
       "      <td>0.000000</td>\n",
       "    </tr>\n",
       "    <tr>\n",
       "      <th>max</th>\n",
       "      <td>1.000000</td>\n",
       "      <td>32.000000</td>\n",
       "      <td>2008.000000</td>\n",
       "      <td>8.340785e+06</td>\n",
       "      <td>1.000000</td>\n",
       "    </tr>\n",
       "  </tbody>\n",
       "</table>\n",
       "</div>"
      ],
      "text/plain": [
       "       investor_flag          bll  resyearbuilt    currentsev    ebll_flag\n",
       "count    3380.000000  3380.000000   3380.000000  3.380000e+03  3380.000000\n",
       "mean        0.150000     1.837870   1749.049112  2.542542e+04     0.043787\n",
       "std         0.357124     1.785903    567.848097  1.807060e+05     0.204651\n",
       "min         0.000000     1.000000      0.000000  0.000000e+00     0.000000\n",
       "25%         0.000000     1.000000   1918.000000  7.951250e+03     0.000000\n",
       "50%         0.000000     1.000000   1928.000000  1.285200e+04     0.000000\n",
       "75%         0.000000     2.000000   1946.000000  1.807650e+04     0.000000\n",
       "max         1.000000    32.000000   2008.000000  8.340785e+06     1.000000"
      ]
     },
     "execution_count": 7,
     "metadata": {},
     "output_type": "execute_result"
    }
   ],
   "source": [
    "df.describe()"
   ]
  },
  {
   "cell_type": "code",
   "execution_count": 8,
   "metadata": {},
   "outputs": [
    {
     "data": {
      "text/html": [
       "<div>\n",
       "<style>\n",
       "    .dataframe thead tr:only-child th {\n",
       "        text-align: right;\n",
       "    }\n",
       "\n",
       "    .dataframe thead th {\n",
       "        text-align: left;\n",
       "    }\n",
       "\n",
       "    .dataframe tbody tr th {\n",
       "        vertical-align: top;\n",
       "    }\n",
       "</style>\n",
       "<table border=\"1\" class=\"dataframe\">\n",
       "  <thead>\n",
       "    <tr style=\"text-align: right;\">\n",
       "      <th>ebll_flag</th>\n",
       "      <th>0</th>\n",
       "      <th>1</th>\n",
       "      <th>All</th>\n",
       "    </tr>\n",
       "    <tr>\n",
       "      <th>investor_flag</th>\n",
       "      <th></th>\n",
       "      <th></th>\n",
       "      <th></th>\n",
       "    </tr>\n",
       "  </thead>\n",
       "  <tbody>\n",
       "    <tr>\n",
       "      <th>0.0</th>\n",
       "      <td>2752</td>\n",
       "      <td>121</td>\n",
       "      <td>2873</td>\n",
       "    </tr>\n",
       "    <tr>\n",
       "      <th>1.0</th>\n",
       "      <td>480</td>\n",
       "      <td>27</td>\n",
       "      <td>507</td>\n",
       "    </tr>\n",
       "    <tr>\n",
       "      <th>All</th>\n",
       "      <td>3232</td>\n",
       "      <td>148</td>\n",
       "      <td>3380</td>\n",
       "    </tr>\n",
       "  </tbody>\n",
       "</table>\n",
       "</div>"
      ],
      "text/plain": [
       "ebll_flag         0    1   All\n",
       "investor_flag                 \n",
       "0.0            2752  121  2873\n",
       "1.0             480   27   507\n",
       "All            3232  148  3380"
      ]
     },
     "execution_count": 8,
     "metadata": {},
     "output_type": "execute_result"
    }
   ],
   "source": [
    "pd.crosstab(df['investor_flag'], df['ebll_flag'], margins=True)"
   ]
  },
  {
   "cell_type": "code",
   "execution_count": 9,
   "metadata": {},
   "outputs": [
    {
     "data": {
      "text/html": [
       "<div>\n",
       "<style>\n",
       "    .dataframe thead tr:only-child th {\n",
       "        text-align: right;\n",
       "    }\n",
       "\n",
       "    .dataframe thead th {\n",
       "        text-align: left;\n",
       "    }\n",
       "\n",
       "    .dataframe tbody tr th {\n",
       "        vertical-align: top;\n",
       "    }\n",
       "</style>\n",
       "<table border=\"1\" class=\"dataframe\">\n",
       "  <thead>\n",
       "    <tr style=\"text-align: right;\">\n",
       "      <th>ebll_flag</th>\n",
       "      <th>0</th>\n",
       "      <th>1</th>\n",
       "    </tr>\n",
       "    <tr>\n",
       "      <th>investor_flag</th>\n",
       "      <th></th>\n",
       "      <th></th>\n",
       "    </tr>\n",
       "  </thead>\n",
       "  <tbody>\n",
       "    <tr>\n",
       "      <th>0.0</th>\n",
       "      <td>0.957884</td>\n",
       "      <td>0.042116</td>\n",
       "    </tr>\n",
       "    <tr>\n",
       "      <th>1.0</th>\n",
       "      <td>0.946746</td>\n",
       "      <td>0.053254</td>\n",
       "    </tr>\n",
       "    <tr>\n",
       "      <th>All</th>\n",
       "      <td>0.956213</td>\n",
       "      <td>0.043787</td>\n",
       "    </tr>\n",
       "  </tbody>\n",
       "</table>\n",
       "</div>"
      ],
      "text/plain": [
       "ebll_flag             0         1\n",
       "investor_flag                    \n",
       "0.0            0.957884  0.042116\n",
       "1.0            0.946746  0.053254\n",
       "All            0.956213  0.043787"
      ]
     },
     "execution_count": 9,
     "metadata": {},
     "output_type": "execute_result"
    }
   ],
   "source": [
    "# normalize by investor flag (row)\n",
    "pd.crosstab(df['investor_flag'], df['ebll_flag'], margins=True, normalize='index')"
   ]
  },
  {
   "cell_type": "code",
   "execution_count": 10,
   "metadata": {},
   "outputs": [
    {
     "name": "stdout",
     "output_type": "stream",
     "text": [
      "1.02473214333 0.311399155265 1\n",
      "[[ 2747.2   125.8]\n",
      " [  484.8    22.2]]\n"
     ]
    }
   ],
   "source": [
    "contingency = pd.crosstab(df['investor_flag'], df['ebll_flag'])\n",
    "# Chi-square test of independence.\n",
    "c, p, dof, expected = chi2_contingency(contingency)\n",
    "print c, p, dof \n",
    "print expected"
   ]
  },
  {
   "cell_type": "code",
   "execution_count": 11,
   "metadata": {},
   "outputs": [
    {
     "name": "stdout",
     "output_type": "stream",
     "text": [
      "0 (u'HUD', 2, u'HUD', 1609)\n",
      "1 (u'ACORN INVESTMENT COMPANY', 1, u'ACORN INVESTMENT COMPANY', 99)\n",
      "2 (u'BENNETT, ALLEN', 1, u'BENNETT, ALLEN', 8)\n",
      "3 (u'BLEVINS PROPERTY MANAGEMENT INC', 1, u'BLEVINS PROPERTY MANAGEMENT INC', 23)\n",
      "4 (u'BROWN, BEVERLY A', 1, u'BROWN, BEVERLY A', 7)\n",
      "5 (u'BROWN, OLIVER', 1, u'BROWN, OLIVER', 9)\n",
      "6 (u'FANNIE MAE', 1, u'FANNIE MAE', 1285)\n",
      "7 (u'FEDERAL HOME LOAN', 1, u'FEDERAL HOME LOAN', 18)\n",
      "8 (u'HILLBUBB LIMITED, LLC', 1, u'HILLBUBB LIMITED, LLC', 8)\n",
      "9 (u'HOMESOLUTIONS PROPERTIES LLC', 1, u'HOMESOLUTIONS PROPERTIES LLC', 20)\n",
      "10 (u'HSBC BANK', 1, u'HSBC BANK', 10)\n",
      "11 (u'HUCULAK, JERRY J', 1, u'HUCULAK, JERRY J', 11)\n",
      "12 (u'KAJA HOLDINGS, LLC', 1, u'KAJA HOLDINGS, LLC', 31)\n",
      "13 (u'KING, ERNEST', 1, u'KING, ERNEST', 11)\n",
      "14 (u'MANORS WORLDWIDE LLC', 1, u'MANORS WORLDWIDE LLC', 17)\n",
      "15 (u'NORWEST MORTGAGE INC', 1, u'NORWEST MORTGAGE INC', 7)\n",
      "16 (u'PETERSON, TRAVIS', 1, u'PETERSON, TRAVIS', 12)\n",
      "17 (u'PHOENIX REAL ESTATE CO', 1, u'PHOENIX REAL ESTATE CO', 10)\n",
      "18 (u'ROBINSON, MARY', 1, u'ROBINSON, MARY', 5)\n",
      "19 (u'SUBURBAN RENAISSANCE VII LLC', 1, u'SUBURBAN RENAISSANCE VII LLC', 22)\n",
      "20 (u'SWE HOMES MI LLC', 1, u'SWE HOMES MI LLC', 43)\n",
      "21 (u'THE GARVEY TRUST', 1, u'THE GARVEY TRUST', 18)\n",
      "22 (u'TODD, TYRONE', 1, u'TODD, TYRONE', 23)\n",
      "23 (u'VANDERWOUDE, ROBERT W', 1, u'VANDERWOUDE, ROBERT W', 11)\n",
      "24 (u'VANEGAS, M & J', 1, u'VANEGAS, M & J', 5)\n",
      "25 (u'WATSON, CLOPHER III', 1, u'WATSON, CLOPHER III', 9)\n"
     ]
    }
   ],
   "source": [
    "# who owns those investor-owned properties?\n",
    "cur.execute('''\n",
    "    SELECT *\n",
    "    FROM\n",
    "    (\n",
    "    SELECT B.ownername, COUNT(*) AS ebll_count\n",
    "    FROM test_data_2015 AS A JOIN detroitparcels2014 AS B\n",
    "    ON A.parcel = B.parcelnumber\n",
    "    WHERE B.investor_flag = 1 AND A.bll >= 5\n",
    "    GROUP BY B.ownername\n",
    "    ORDER BY COUNT(*) DESC\n",
    "    ) AS left\n",
    "    JOIN\n",
    "    (SELECT ownername, COUNT(*) AS tot_count\n",
    "    FROM detroitparcels2014\n",
    "    WHERE investor_flag = 1\n",
    "    GROUP BY ownername\n",
    "    ) AS right\n",
    "    ON left.ownername = right.ownername\n",
    "    ;\n",
    "    ''')\n",
    "results = cur.fetchall()\n",
    "for i, row in enumerate(results):\n",
    "    print i, row"
   ]
  },
  {
   "cell_type": "code",
   "execution_count": 12,
   "metadata": {},
   "outputs": [
    {
     "data": {
      "text/plain": [
       "322"
      ]
     },
     "execution_count": 12,
     "metadata": {},
     "output_type": "execute_result"
    }
   ],
   "source": [
    "# how many homes are missing year built?\n",
    "len(df.loc[df['resyearbuilt']==0])"
   ]
  },
  {
   "cell_type": "code",
   "execution_count": 13,
   "metadata": {},
   "outputs": [
    {
     "data": {
      "text/html": [
       "<div>\n",
       "<style>\n",
       "    .dataframe thead tr:only-child th {\n",
       "        text-align: right;\n",
       "    }\n",
       "\n",
       "    .dataframe thead th {\n",
       "        text-align: left;\n",
       "    }\n",
       "\n",
       "    .dataframe tbody tr th {\n",
       "        vertical-align: top;\n",
       "    }\n",
       "</style>\n",
       "<table border=\"1\" class=\"dataframe\">\n",
       "  <thead>\n",
       "    <tr style=\"text-align: right;\">\n",
       "      <th></th>\n",
       "      <th>investor_flag</th>\n",
       "      <th>bll</th>\n",
       "      <th>resyearbuilt</th>\n",
       "      <th>currentsev</th>\n",
       "      <th>ebll_flag</th>\n",
       "    </tr>\n",
       "  </thead>\n",
       "  <tbody>\n",
       "    <tr>\n",
       "      <th>count</th>\n",
       "      <td>3058.000000</td>\n",
       "      <td>3058.000000</td>\n",
       "      <td>3058.000000</td>\n",
       "      <td>3058.000000</td>\n",
       "      <td>3058.000000</td>\n",
       "    </tr>\n",
       "    <tr>\n",
       "      <th>mean</th>\n",
       "      <td>0.164487</td>\n",
       "      <td>1.844997</td>\n",
       "      <td>1933.219751</td>\n",
       "      <td>13383.170046</td>\n",
       "      <td>0.043819</td>\n",
       "    </tr>\n",
       "    <tr>\n",
       "      <th>std</th>\n",
       "      <td>0.370777</td>\n",
       "      <td>1.793432</td>\n",
       "      <td>16.035640</td>\n",
       "      <td>7358.466873</td>\n",
       "      <td>0.204727</td>\n",
       "    </tr>\n",
       "    <tr>\n",
       "      <th>min</th>\n",
       "      <td>0.000000</td>\n",
       "      <td>1.000000</td>\n",
       "      <td>1870.000000</td>\n",
       "      <td>0.000000</td>\n",
       "      <td>0.000000</td>\n",
       "    </tr>\n",
       "    <tr>\n",
       "      <th>25%</th>\n",
       "      <td>0.000000</td>\n",
       "      <td>1.000000</td>\n",
       "      <td>1923.000000</td>\n",
       "      <td>8789.500000</td>\n",
       "      <td>0.000000</td>\n",
       "    </tr>\n",
       "    <tr>\n",
       "      <th>50%</th>\n",
       "      <td>0.000000</td>\n",
       "      <td>1.000000</td>\n",
       "      <td>1931.000000</td>\n",
       "      <td>13000.000000</td>\n",
       "      <td>0.000000</td>\n",
       "    </tr>\n",
       "    <tr>\n",
       "      <th>75%</th>\n",
       "      <td>0.000000</td>\n",
       "      <td>2.000000</td>\n",
       "      <td>1946.000000</td>\n",
       "      <td>17747.500000</td>\n",
       "      <td>0.000000</td>\n",
       "    </tr>\n",
       "    <tr>\n",
       "      <th>max</th>\n",
       "      <td>1.000000</td>\n",
       "      <td>32.000000</td>\n",
       "      <td>2008.000000</td>\n",
       "      <td>61714.000000</td>\n",
       "      <td>1.000000</td>\n",
       "    </tr>\n",
       "  </tbody>\n",
       "</table>\n",
       "</div>"
      ],
      "text/plain": [
       "       investor_flag          bll  resyearbuilt    currentsev    ebll_flag\n",
       "count    3058.000000  3058.000000   3058.000000   3058.000000  3058.000000\n",
       "mean        0.164487     1.844997   1933.219751  13383.170046     0.043819\n",
       "std         0.370777     1.793432     16.035640   7358.466873     0.204727\n",
       "min         0.000000     1.000000   1870.000000      0.000000     0.000000\n",
       "25%         0.000000     1.000000   1923.000000   8789.500000     0.000000\n",
       "50%         0.000000     1.000000   1931.000000  13000.000000     0.000000\n",
       "75%         0.000000     2.000000   1946.000000  17747.500000     0.000000\n",
       "max         1.000000    32.000000   2008.000000  61714.000000     1.000000"
      ]
     },
     "execution_count": 13,
     "metadata": {},
     "output_type": "execute_result"
    }
   ],
   "source": [
    "# gen contingency table after dropping missing values\n",
    "df = df.loc[df['resyearbuilt']>0]\n",
    "df.describe()"
   ]
  },
  {
   "cell_type": "code",
   "execution_count": 14,
   "metadata": {},
   "outputs": [
    {
     "data": {
      "text/html": [
       "<div>\n",
       "<style>\n",
       "    .dataframe thead tr:only-child th {\n",
       "        text-align: right;\n",
       "    }\n",
       "\n",
       "    .dataframe thead th {\n",
       "        text-align: left;\n",
       "    }\n",
       "\n",
       "    .dataframe tbody tr th {\n",
       "        vertical-align: top;\n",
       "    }\n",
       "</style>\n",
       "<table border=\"1\" class=\"dataframe\">\n",
       "  <thead>\n",
       "    <tr style=\"text-align: right;\">\n",
       "      <th>ebll_flag</th>\n",
       "      <th>0</th>\n",
       "      <th>1</th>\n",
       "      <th>All</th>\n",
       "    </tr>\n",
       "    <tr>\n",
       "      <th>investor_flag</th>\n",
       "      <th></th>\n",
       "      <th></th>\n",
       "      <th></th>\n",
       "    </tr>\n",
       "  </thead>\n",
       "  <tbody>\n",
       "    <tr>\n",
       "      <th>0.0</th>\n",
       "      <td>2448</td>\n",
       "      <td>107</td>\n",
       "      <td>2555</td>\n",
       "    </tr>\n",
       "    <tr>\n",
       "      <th>1.0</th>\n",
       "      <td>476</td>\n",
       "      <td>27</td>\n",
       "      <td>503</td>\n",
       "    </tr>\n",
       "    <tr>\n",
       "      <th>All</th>\n",
       "      <td>2924</td>\n",
       "      <td>134</td>\n",
       "      <td>3058</td>\n",
       "    </tr>\n",
       "  </tbody>\n",
       "</table>\n",
       "</div>"
      ],
      "text/plain": [
       "ebll_flag         0    1   All\n",
       "investor_flag                 \n",
       "0.0            2448  107  2555\n",
       "1.0             476   27   503\n",
       "All            2924  134  3058"
      ]
     },
     "execution_count": 14,
     "metadata": {},
     "output_type": "execute_result"
    }
   ],
   "source": [
    "pd.crosstab(df['investor_flag'], df['ebll_flag'], margins=True)"
   ]
  },
  {
   "cell_type": "code",
   "execution_count": 15,
   "metadata": {},
   "outputs": [
    {
     "data": {
      "text/html": [
       "<div>\n",
       "<style>\n",
       "    .dataframe thead tr:only-child th {\n",
       "        text-align: right;\n",
       "    }\n",
       "\n",
       "    .dataframe thead th {\n",
       "        text-align: left;\n",
       "    }\n",
       "\n",
       "    .dataframe tbody tr th {\n",
       "        vertical-align: top;\n",
       "    }\n",
       "</style>\n",
       "<table border=\"1\" class=\"dataframe\">\n",
       "  <thead>\n",
       "    <tr style=\"text-align: right;\">\n",
       "      <th>ebll_flag</th>\n",
       "      <th>0</th>\n",
       "      <th>1</th>\n",
       "    </tr>\n",
       "    <tr>\n",
       "      <th>investor_flag</th>\n",
       "      <th></th>\n",
       "      <th></th>\n",
       "    </tr>\n",
       "  </thead>\n",
       "  <tbody>\n",
       "    <tr>\n",
       "      <th>0.0</th>\n",
       "      <td>0.958121</td>\n",
       "      <td>0.041879</td>\n",
       "    </tr>\n",
       "    <tr>\n",
       "      <th>1.0</th>\n",
       "      <td>0.946322</td>\n",
       "      <td>0.053678</td>\n",
       "    </tr>\n",
       "    <tr>\n",
       "      <th>All</th>\n",
       "      <td>0.956181</td>\n",
       "      <td>0.043819</td>\n",
       "    </tr>\n",
       "  </tbody>\n",
       "</table>\n",
       "</div>"
      ],
      "text/plain": [
       "ebll_flag             0         1\n",
       "investor_flag                    \n",
       "0.0            0.958121  0.041879\n",
       "1.0            0.946322  0.053678\n",
       "All            0.956181  0.043819"
      ]
     },
     "execution_count": 15,
     "metadata": {},
     "output_type": "execute_result"
    }
   ],
   "source": [
    "# normalize by investor flag (row)\n",
    "pd.crosstab(df['investor_flag'], df['ebll_flag'], margins=True, normalize='index')"
   ]
  },
  {
   "cell_type": "markdown",
   "metadata": {},
   "source": [
    "## regression analysis\n",
    "\n",
    "regress binary outcome of ebll on investor ownership and home age"
   ]
  },
  {
   "cell_type": "code",
   "execution_count": 16,
   "metadata": {},
   "outputs": [
    {
     "name": "stderr",
     "output_type": "stream",
     "text": [
      "/home/eric/anaconda2/envs/geo/lib/python2.7/site-packages/statsmodels/compat/pandas.py:56: FutureWarning: The pandas.core.datetools module is deprecated and will be removed in a future version. Please use the pandas.tseries module instead.\n",
      "  from pandas.core import datetools\n"
     ]
    }
   ],
   "source": [
    "import statsmodels.api as sm"
   ]
  },
  {
   "cell_type": "code",
   "execution_count": 17,
   "metadata": {},
   "outputs": [
    {
     "data": {
      "text/html": [
       "<div>\n",
       "<style>\n",
       "    .dataframe thead tr:only-child th {\n",
       "        text-align: right;\n",
       "    }\n",
       "\n",
       "    .dataframe thead th {\n",
       "        text-align: left;\n",
       "    }\n",
       "\n",
       "    .dataframe tbody tr th {\n",
       "        vertical-align: top;\n",
       "    }\n",
       "</style>\n",
       "<table border=\"1\" class=\"dataframe\">\n",
       "  <thead>\n",
       "    <tr style=\"text-align: right;\">\n",
       "      <th></th>\n",
       "      <th>investor_flag</th>\n",
       "      <th>bll</th>\n",
       "      <th>resyearbuilt</th>\n",
       "      <th>currentsev</th>\n",
       "      <th>ebll_flag</th>\n",
       "      <th>hm_age</th>\n",
       "    </tr>\n",
       "  </thead>\n",
       "  <tbody>\n",
       "    <tr>\n",
       "      <th>count</th>\n",
       "      <td>3058.000000</td>\n",
       "      <td>3058.000000</td>\n",
       "      <td>3058.000000</td>\n",
       "      <td>3058.000000</td>\n",
       "      <td>3058.000000</td>\n",
       "      <td>3058.000000</td>\n",
       "    </tr>\n",
       "    <tr>\n",
       "      <th>mean</th>\n",
       "      <td>0.164487</td>\n",
       "      <td>1.844997</td>\n",
       "      <td>1933.219751</td>\n",
       "      <td>13383.170046</td>\n",
       "      <td>0.043819</td>\n",
       "      <td>84.780249</td>\n",
       "    </tr>\n",
       "    <tr>\n",
       "      <th>std</th>\n",
       "      <td>0.370777</td>\n",
       "      <td>1.793432</td>\n",
       "      <td>16.035640</td>\n",
       "      <td>7358.466873</td>\n",
       "      <td>0.204727</td>\n",
       "      <td>16.035640</td>\n",
       "    </tr>\n",
       "    <tr>\n",
       "      <th>min</th>\n",
       "      <td>0.000000</td>\n",
       "      <td>1.000000</td>\n",
       "      <td>1870.000000</td>\n",
       "      <td>0.000000</td>\n",
       "      <td>0.000000</td>\n",
       "      <td>10.000000</td>\n",
       "    </tr>\n",
       "    <tr>\n",
       "      <th>25%</th>\n",
       "      <td>0.000000</td>\n",
       "      <td>1.000000</td>\n",
       "      <td>1923.000000</td>\n",
       "      <td>8789.500000</td>\n",
       "      <td>0.000000</td>\n",
       "      <td>72.000000</td>\n",
       "    </tr>\n",
       "    <tr>\n",
       "      <th>50%</th>\n",
       "      <td>0.000000</td>\n",
       "      <td>1.000000</td>\n",
       "      <td>1931.000000</td>\n",
       "      <td>13000.000000</td>\n",
       "      <td>0.000000</td>\n",
       "      <td>87.000000</td>\n",
       "    </tr>\n",
       "    <tr>\n",
       "      <th>75%</th>\n",
       "      <td>0.000000</td>\n",
       "      <td>2.000000</td>\n",
       "      <td>1946.000000</td>\n",
       "      <td>17747.500000</td>\n",
       "      <td>0.000000</td>\n",
       "      <td>95.000000</td>\n",
       "    </tr>\n",
       "    <tr>\n",
       "      <th>max</th>\n",
       "      <td>1.000000</td>\n",
       "      <td>32.000000</td>\n",
       "      <td>2008.000000</td>\n",
       "      <td>61714.000000</td>\n",
       "      <td>1.000000</td>\n",
       "      <td>148.000000</td>\n",
       "    </tr>\n",
       "  </tbody>\n",
       "</table>\n",
       "</div>"
      ],
      "text/plain": [
       "       investor_flag          bll  resyearbuilt    currentsev    ebll_flag  \\\n",
       "count    3058.000000  3058.000000   3058.000000   3058.000000  3058.000000   \n",
       "mean        0.164487     1.844997   1933.219751  13383.170046     0.043819   \n",
       "std         0.370777     1.793432     16.035640   7358.466873     0.204727   \n",
       "min         0.000000     1.000000   1870.000000      0.000000     0.000000   \n",
       "25%         0.000000     1.000000   1923.000000   8789.500000     0.000000   \n",
       "50%         0.000000     1.000000   1931.000000  13000.000000     0.000000   \n",
       "75%         0.000000     2.000000   1946.000000  17747.500000     0.000000   \n",
       "max         1.000000    32.000000   2008.000000  61714.000000     1.000000   \n",
       "\n",
       "            hm_age  \n",
       "count  3058.000000  \n",
       "mean     84.780249  \n",
       "std      16.035640  \n",
       "min      10.000000  \n",
       "25%      72.000000  \n",
       "50%      87.000000  \n",
       "75%      95.000000  \n",
       "max     148.000000  "
      ]
     },
     "execution_count": 17,
     "metadata": {},
     "output_type": "execute_result"
    }
   ],
   "source": [
    "df['hm_age'] = 2018 - df['resyearbuilt']\n",
    "df['investor_flag'] = df['investor_flag'].astype(int)\n",
    "df.describe()"
   ]
  },
  {
   "cell_type": "code",
   "execution_count": 18,
   "metadata": {},
   "outputs": [
    {
     "data": {
      "text/plain": [
       "investor_flag    int64\n",
       "bll              int64\n",
       "resyearbuilt     int64\n",
       "currentsev       int64\n",
       "ebll_flag        int64\n",
       "hm_age           int64\n",
       "dtype: object"
      ]
     },
     "execution_count": 18,
     "metadata": {},
     "output_type": "execute_result"
    }
   ],
   "source": [
    "df.dtypes"
   ]
  },
  {
   "cell_type": "code",
   "execution_count": 19,
   "metadata": {},
   "outputs": [
    {
     "name": "stdout",
     "output_type": "stream",
     "text": [
      "Optimization terminated successfully.\n",
      "         Current function value: 0.194628\n",
      "         Iterations 7\n",
      "                           Logit Regression Results                           \n",
      "==============================================================================\n",
      "Dep. Variable:              ebll_flag   No. Observations:                 3058\n",
      "Model:                          Logit   Df Residuals:                     3055\n",
      "Method:                           MLE   Df Model:                            2\n",
      "Date:                Wed, 18 Jul 2018   Pseudo R-squ.:                -0.08188\n",
      "Time:                        09:12:49   Log-Likelihood:                -595.17\n",
      "converged:                       True   LL-Null:                       -550.13\n",
      "                                        LLR p-value:                     1.000\n",
      "=================================================================================\n",
      "                    coef    std err          z      P>|z|      [0.025      0.975]\n",
      "---------------------------------------------------------------------------------\n",
      "investor_flag    -0.0325      0.217     -0.150      0.881      -0.458       0.393\n",
      "hm_age           -0.0264      0.002    -14.489      0.000      -0.030      -0.023\n",
      "currentsev     -5.95e-05    1.1e-05     -5.393      0.000   -8.11e-05   -3.79e-05\n",
      "=================================================================================\n"
     ]
    }
   ],
   "source": [
    "ivs = ['investor_flag', 'hm_age', 'currentsev']\n",
    "\n",
    "logit = sm.Logit(df['ebll_flag'], df[ivs])\n",
    "\n",
    "result = logit.fit()\n",
    "\n",
    "print result.summary()"
   ]
  },
  {
   "cell_type": "code",
   "execution_count": 23,
   "metadata": {},
   "outputs": [
    {
     "data": {
      "text/plain": [
       "<matplotlib.axes._subplots.AxesSubplot at 0x7f0b2b52c190>"
      ]
     },
     "execution_count": 23,
     "metadata": {},
     "output_type": "execute_result"
    },
    {
     "data": {
      "image/png": "[encoded data removed]",
      "text/plain": [
       "<matplotlib.figure.Figure at 0x7f0b2b549590>"
      ]
     },
     "metadata": {},
     "output_type": "display_data"
    }
   ],
   "source": [
    "df.plot.scatter(x='hm_age', y='bll', c='currentsev', colormap='viridis', figsize=(8,6))"
   ]
  },
  {
   "cell_type": "code",
   "execution_count": 24,
   "metadata": {},
   "outputs": [
    {
     "data": {
      "text/plain": [
       "<matplotlib.axes._subplots.AxesSubplot at 0x7f0b2b3f7450>"
      ]
     },
     "execution_count": 24,
     "metadata": {},
     "output_type": "execute_result"
    },
    {
     "data": {
      "image/png": "[encoded data removed]",
      "text/plain": [
       "<matplotlib.figure.Figure at 0x7f0b2b397290>"
      ]
     },
     "metadata": {},
     "output_type": "display_data"
    }
   ],
   "source": [
    "df.plot.scatter(x='hm_age', y='currentsev', figsize=(8,6))"
   ]
  },
  {
   "cell_type": "code",
   "execution_count": 21,
   "metadata": {
    "collapsed": true
   },
   "outputs": [],
   "source": [
    "con.close()"
   ]
  }
 ],
 "metadata": {
  "kernelspec": {
   "display_name": "Python 2",
   "language": "python",
   "name": "python2"
  },
  "language_info": {
   "codemirror_mode": {
    "name": "ipython",
    "version": 2
   },
   "file_extension": ".py",
   "mimetype": "text/x-python",
   "name": "python",
   "nbconvert_exporter": "python",
   "pygments_lexer": "ipython2",
   "version": "2.7.14"
  }
 },
 "nbformat": 4,
 "nbformat_minor": 2
}
